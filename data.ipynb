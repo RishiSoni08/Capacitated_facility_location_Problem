{
 "cells": [
  {
   "cell_type": "markdown",
   "metadata": {},
   "source": [
    "### Formulation of Distance Matrix"
   ]
  },
  {
   "cell_type": "code",
   "execution_count": 31,
   "metadata": {},
   "outputs": [],
   "source": [
    "import pandas as pd \n",
    "import numpy as np \n",
    "import folium\n",
    "from geopy.distance import geodesic\n",
    "import json"
   ]
  },
  {
   "cell_type": "code",
   "execution_count": 22,
   "metadata": {},
   "outputs": [],
   "source": [
    "indian_cities_coordinates = {\n",
    "    \"Mumbai\": {\"latitude\": 19.0760, \"longitude\": 72.8777},\n",
    "    \"Delhi\": {\"latitude\": 28.7041, \"longitude\": 77.1025},\n",
    "    \"Bengaluru\": {\"latitude\": 12.9716, \"longitude\": 77.5946},\n",
    "    \"Hyderabad\": {\"latitude\": 17.3850, \"longitude\": 78.4867},\n",
    "    \"Ahmedabad\": {\"latitude\": 23.0225, \"longitude\": 72.5714},\n",
    "    \"Chennai\": {\"latitude\": 13.0827, \"longitude\": 80.2707},\n",
    "    \"Kolkata\": {\"latitude\": 22.5726, \"longitude\": 88.3639},\n",
    "    \"Pune\": {\"latitude\": 18.5204, \"longitude\": 73.8567},\n",
    "    \"Jaipur\": {\"latitude\": 26.9124, \"longitude\": 75.7873},\n",
    "    \"Surat\": {\"latitude\": 21.1702, \"longitude\": 72.8311},\n",
    "    \"Lucknow\": {\"latitude\": 26.8467, \"longitude\": 80.9462},\n",
    "    \"Kanpur\": {\"latitude\": 26.4499, \"longitude\": 80.3319},\n",
    "    \"Nagpur\": {\"latitude\": 21.1458, \"longitude\": 79.0882},\n",
    "    \"Visakhapatnam\": {\"latitude\": 17.6868, \"longitude\": 83.2185},\n",
    "    \"Bhopal\": {\"latitude\": 23.2599, \"longitude\": 77.4126},\n",
    "    \"Patna\": {\"latitude\": 25.5941, \"longitude\": 85.1376},\n",
    "    \"Ludhiana\": {\"latitude\": 30.9010, \"longitude\": 75.8573},\n",
    "    \"Agra\": {\"latitude\": 27.1767, \"longitude\": 78.0081},\n",
    "    \"Nashik\": {\"latitude\": 19.9975, \"longitude\": 73.7898},\n",
    "    \"Faridabad\": {\"latitude\": 28.4089, \"longitude\": 77.3178},\n",
    "    \"Meerut\": {\"latitude\": 28.9845, \"longitude\": 77.7064},\n",
    "    \"Rajkot\": {\"latitude\": 22.3039, \"longitude\": 70.8022},\n",
    "    \"Varanasi\": {\"latitude\": 25.3176, \"longitude\": 82.9739},\n",
    "    \"Srinagar\": {\"latitude\": 34.0837, \"longitude\": 74.7973},\n",
    "    \"Aurangabad\": {\"latitude\": 19.8762, \"longitude\": 75.3433},\n",
    "    \"Dhanbad\": {\"latitude\": 23.7957, \"longitude\": 86.4304},\n",
    "    \"Amritsar\": {\"latitude\": 31.6340, \"longitude\": 74.8723},\n",
    "    \"Navi Mumbai\": {\"latitude\": 19.0330, \"longitude\": 73.0297},\n",
    "    \"Allahabad\": {\"latitude\": 25.4358, \"longitude\": 81.8463},\n",
    "    \"Ranchi\": {\"latitude\": 23.3441, \"longitude\": 85.3096},\n",
    "    \"Howrah\": {\"latitude\": 22.5958, \"longitude\": 88.2636},\n",
    "    \"Coimbatore\": {\"latitude\": 11.0168, \"longitude\": 76.9558},\n",
    "    \"Jabalpur\": {\"latitude\": 23.1815, \"longitude\": 79.9864},\n",
    "    \"Gwalior\": {\"latitude\": 26.2183, \"longitude\": 78.1828},\n",
    "    \"Vijayawada\": {\"latitude\": 16.5062, \"longitude\": 80.6480},\n",
    "    \"Jodhpur\": {\"latitude\": 26.2389, \"longitude\": 73.0243},\n",
    "    \"Madurai\": {\"latitude\": 9.9252, \"longitude\": 78.1198},\n",
    "    \"Raipur\": {\"latitude\": 21.2514, \"longitude\": 81.6296},\n",
    "    \"Kota\": {\"latitude\": 25.2138, \"longitude\": 75.8648},\n",
    "    \"Guwahati\": {\"latitude\": 26.1445, \"longitude\": 91.7362},\n",
    "    \"Chandigarh\": {\"latitude\": 30.7333, \"longitude\": 76.7794},\n",
    "    \"Solapur\": {\"latitude\": 17.6599, \"longitude\": 75.9064},\n",
    "    \"Hubli\": {\"latitude\": 15.3647, \"longitude\": 75.1239},\n",
    "    \"Mysore\": {\"latitude\": 12.2958, \"longitude\": 76.6394},\n",
    "    \"Tiruchirappalli\": {\"latitude\": 10.7905, \"longitude\": 78.7047},\n",
    "    \"Bareilly\": {\"latitude\": 28.3670, \"longitude\": 79.4304},\n",
    "    \"Aligarh\": {\"latitude\": 27.8974, \"longitude\": 78.0880},\n",
    "    \"Moradabad\": {\"latitude\": 28.8386, \"longitude\": 78.7733},\n",
    "    \"Gurgaon\": {\"latitude\": 28.4595, \"longitude\": 77.0266},\n",
    "    \"Jalandhar\": {\"latitude\": 31.3260, \"longitude\": 75.5762}\n",
    "\n",
    "}\n"
   ]
  },
  {
   "cell_type": "code",
   "execution_count": 15,
   "metadata": {},
   "outputs": [
    {
     "name": "stdout",
     "output_type": "stream",
     "text": [
      "Total Demand: 15050\n",
      "Total Capacity: 40250\n"
     ]
    }
   ],
   "source": [
    "facility_data = {\n",
    "    \"Mumbai\": {\"demand\": 500, \"capacity\": 1000, \"cost\": 1500},\n",
    "    \"Delhi\": {\"demand\": 600, \"capacity\": 1100, \"cost\": 1600},\n",
    "    \"Bengaluru\": {\"demand\": 450, \"capacity\": 950, \"cost\": 1450},\n",
    "    \"Hyderabad\": {\"demand\": 400, \"capacity\": 900, \"cost\": 1400},\n",
    "    \"Ahmedabad\": {\"demand\": 300, \"capacity\": 850, \"cost\": 1300},\n",
    "    \"Chennai\": {\"demand\": 550, \"capacity\": 1050, \"cost\": 1550},\n",
    "    \"Kolkata\": {\"demand\": 500, \"capacity\": 1000, \"cost\": 1500},\n",
    "    \"Pune\": {\"demand\": 400, \"capacity\": 950, \"cost\": 1400},\n",
    "    \"Jaipur\": {\"demand\": 350, \"capacity\": 900, \"cost\": 1350},\n",
    "    \"Surat\": {\"demand\": 300, \"capacity\": 850, \"cost\": 1300},\n",
    "    \"Lucknow\": {\"demand\": 450, \"capacity\": 950, \"cost\": 1450},\n",
    "    \"Kanpur\": {\"demand\": 400, \"capacity\": 900, \"cost\": 1400},\n",
    "    \"Nagpur\": {\"demand\": 350, \"capacity\": 850, \"cost\": 1350},\n",
    "    \"Visakhapatnam\": {\"demand\": 400, \"capacity\": 900, \"cost\": 1400},\n",
    "    \"Bhopal\": {\"demand\": 300, \"capacity\": 800, \"cost\": 1300},\n",
    "    \"Patna\": {\"demand\": 350, \"capacity\": 850, \"cost\": 1350},\n",
    "    \"Ludhiana\": {\"demand\": 300, \"capacity\": 800, \"cost\": 1300},\n",
    "    \"Agra\": {\"demand\": 250, \"capacity\": 750, \"cost\": 1250},\n",
    "    \"Nashik\": {\"demand\": 300, \"capacity\": 800, \"cost\": 1300},\n",
    "    \"Faridabad\": {\"demand\": 250, \"capacity\": 750, \"cost\": 1250},\n",
    "    \"Meerut\": {\"demand\": 200, \"capacity\": 700, \"cost\": 1200},\n",
    "    \"Rajkot\": {\"demand\": 250, \"capacity\": 750, \"cost\": 1250},\n",
    "    \"Varanasi\": {\"demand\": 300, \"capacity\": 800, \"cost\": 1300},\n",
    "    \"Srinagar\": {\"demand\": 200, \"capacity\": 700, \"cost\": 1200},\n",
    "    \"Aurangabad\": {\"demand\": 250, \"capacity\": 750, \"cost\": 1250},\n",
    "    \"Dhanbad\": {\"demand\": 200, \"capacity\": 700, \"cost\": 1200},\n",
    "    \"Amritsar\": {\"demand\": 250, \"capacity\": 750, \"cost\": 1250},\n",
    "    \"Navi Mumbai\": {\"demand\": 300, \"capacity\": 800, \"cost\": 1300},\n",
    "    \"Allahabad\": {\"demand\": 250, \"capacity\": 750, \"cost\": 1250},\n",
    "    \"Ranchi\": {\"demand\": 200, \"capacity\": 700, \"cost\": 1200},\n",
    "    \"Howrah\": {\"demand\": 250, \"capacity\": 750, \"cost\": 1250},\n",
    "    \"Coimbatore\": {\"demand\": 300, \"capacity\": 800, \"cost\": 1300},\n",
    "    \"Jabalpur\": {\"demand\": 200, \"capacity\": 700, \"cost\": 1200},\n",
    "    \"Gwalior\": {\"demand\": 250, \"capacity\": 750, \"cost\": 1250},\n",
    "    \"Vijayawada\": {\"demand\": 300, \"capacity\": 800, \"cost\": 1300},\n",
    "    \"Jodhpur\": {\"demand\": 250, \"capacity\": 750, \"cost\": 1250},\n",
    "    \"Madurai\": {\"demand\": 200, \"capacity\": 700, \"cost\": 1200},\n",
    "    \"Raipur\": {\"demand\": 250, \"capacity\": 750, \"cost\": 1250},\n",
    "    \"Kota\": {\"demand\": 200, \"capacity\": 700, \"cost\": 1200},\n",
    "    \"Guwahati\": {\"demand\": 300, \"capacity\": 800, \"cost\": 1300},\n",
    "    \"Chandigarh\": {\"demand\": 250, \"capacity\": 750, \"cost\": 1250},\n",
    "    \"Solapur\": {\"demand\": 200, \"capacity\": 700, \"cost\": 1200},\n",
    "    \"Hubli\": {\"demand\": 250, \"capacity\": 750, \"cost\": 1250},\n",
    "    \"Mysore\": {\"demand\": 300, \"capacity\": 800, \"cost\": 1300},\n",
    "    \"Tiruchirappalli\": {\"demand\": 250, \"capacity\": 750, \"cost\": 1250},\n",
    "    \"Bareilly\": {\"demand\": 200, \"capacity\": 700, \"cost\": 1200},\n",
    "    \"Aligarh\": {\"demand\": 250, \"capacity\": 750, \"cost\": 1250},\n",
    "    \"Moradabad\": {\"demand\": 200, \"capacity\": 700, \"cost\": 1200},\n",
    "    \"Gurgaon\": {\"demand\": 300, \"capacity\": 800, \"cost\": 1300},\n",
    "    \"Jalandhar\": {\"demand\": 250, \"capacity\": 750, \"cost\": 1250}\n",
    "}\n",
    "\n",
    "total_demand = sum(city[\"demand\"] for city in facility_data.values())\n",
    "total_capacity = sum(city[\"capacity\"] for city in facility_data.values())\n",
    "\n",
    "print(f\"Total Demand: {total_demand}\")\n",
    "print(f\"Total Capacity: {total_capacity}\")\n"
   ]
  },
  {
   "cell_type": "code",
   "execution_count": 30,
   "metadata": {},
   "outputs": [],
   "source": [
    "## combining both the dictionaries. \n",
    "# Combined dictionary\n",
    "combined_data = {}\n",
    "\n",
    "\n",
    "for city in indian_cities_coordinates:\n",
    "    if city in facility_data:\n",
    "        combined_data[city] = {\n",
    "            \"latitude\": indian_cities_coordinates[city][\"latitude\"],\n",
    "            \"longitude\": indian_cities_coordinates[city][\"longitude\"],\n",
    "            \"demand\": facility_data[city][\"demand\"],\n",
    "            \"capacity\": facility_data[city][\"capacity\"],\n",
    "            \"cost\": facility_data[city][\"cost\"],\n",
    "        }"
   ]
  },
  {
   "cell_type": "code",
   "execution_count": 32,
   "metadata": {},
   "outputs": [
    {
     "name": "stdout",
     "output_type": "stream",
     "text": [
      "Combined data saved to combined_data.json\n"
     ]
    }
   ],
   "source": [
    "# File path to save the JSON\n",
    "file_path = 'combined_data.json'\n",
    "\n",
    "# Writing the combined dictionary to a JSON file\n",
    "with open(file_path, 'w') as json_file:\n",
    "    json.dump(combined_data, json_file, indent=4)\n",
    "\n",
    "print(f\"Combined data saved to {file_path}\")"
   ]
  },
  {
   "cell_type": "code",
   "execution_count": 7,
   "metadata": {},
   "outputs": [],
   "source": [
    "# List of cities\n",
    "cities = list(indian_cities_coordinates.keys())\n",
    "num_cities = len(cities)\n",
    "\n",
    "# Initialize distance matrix\n",
    "distance_matrix = pd.DataFrame(index=cities, columns=cities)\n"
   ]
  },
  {
   "cell_type": "code",
   "execution_count": 8,
   "metadata": {},
   "outputs": [
    {
     "name": "stderr",
     "output_type": "stream",
     "text": [
      "/tmp/ipykernel_92693/1303415411.py:11: FutureWarning: Downcasting object dtype arrays on .fillna, .ffill, .bfill is deprecated and will change in a future version. Call result.infer_objects(copy=False) instead. To opt-in to the future behavior, set `pd.set_option('future.no_silent_downcasting', True)`\n",
      "  distance_matrix = distance_matrix.fillna(0)\n"
     ]
    }
   ],
   "source": [
    "for i in range (num_cities) : \n",
    "    for j in range (num_cities): \n",
    "        city1 = cities[i]\n",
    "        city2= cities[j]\n",
    "        cord1 = (indian_cities_coordinates [city1]['latitude'],indian_cities_coordinates [city1]['longitude'])\n",
    "        cord2 = (indian_cities_coordinates [city2]['latitude'],indian_cities_coordinates [city2]['longitude'])\n",
    "        dist = geodesic(cord1,cord2).kilometers\n",
    "        distance_matrix.loc[city1,city2] = dist\n",
    "        distance_matrix.loc[city1,city2] = dist\n",
    "\n",
    "distance_matrix = distance_matrix.fillna(0)\n"
   ]
  },
  {
   "cell_type": "code",
   "execution_count": null,
   "metadata": {},
   "outputs": [],
   "source": []
  },
  {
   "cell_type": "code",
   "execution_count": 9,
   "metadata": {},
   "outputs": [],
   "source": [
    "location_coordinates = pd.DataFrame(indian_cities_coordinates).T\n",
    "distance_matrix ['Latitude'] = location_coordinates['latitude']\n",
    "distance_matrix['Longitude']= location_coordinates['longitude']"
   ]
  },
  {
   "cell_type": "code",
   "execution_count": 10,
   "metadata": {},
   "outputs": [],
   "source": [
    "# Save distance matrix to CSV\n",
    "distance_matrix.to_csv('distance_matrix.csv')\n"
   ]
  }
 ],
 "metadata": {
  "kernelspec": {
   "display_name": "base",
   "language": "python",
   "name": "python3"
  },
  "language_info": {
   "codemirror_mode": {
    "name": "ipython",
    "version": 3
   },
   "file_extension": ".py",
   "mimetype": "text/x-python",
   "name": "python",
   "nbconvert_exporter": "python",
   "pygments_lexer": "ipython3",
   "version": "3.9.19"
  }
 },
 "nbformat": 4,
 "nbformat_minor": 2
}
